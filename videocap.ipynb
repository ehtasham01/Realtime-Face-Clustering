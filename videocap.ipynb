{
 "cells": [
  {
   "cell_type": "code",
   "execution_count": 1,
   "metadata": {},
   "outputs": [],
   "source": [
    "from imutils.video import FileVideoStream\n",
    "from imutils.video import VideoStream\n",
    "from sklearn.cluster import DBSCAN\n",
    "from imutils.video import FPS\n",
    "from imutils import paths\n",
    "import face_recognition\n",
    "import numpy as np\n",
    "import argparse\n",
    "import imutils\n",
    "import pickle\n",
    "import time\n",
    "import cv2\n",
    "import os"
   ]
  },
  {
   "cell_type": "markdown",
   "metadata": {},
   "source": [
    "## Setup Video Agent"
   ]
  },
  {
   "cell_type": "code",
   "execution_count": 2,
   "metadata": {},
   "outputs": [],
   "source": [
    "class VideoAgent:\n",
    "    def __init__(self):\n",
    "        print(\"[INFO] starting clustering agent...\")\n",
    "        self.clt = DBSCAN(min_samples=20, metric='euclidean', eps= 0.44, n_jobs=-1)\n",
    "            \n",
    "        print(\"[INFO] starting video stream...\")\n",
    "        self.video_capture = cv2.VideoCapture(\"./sample_videos/videoplayback.mp4\")\n",
    "\n",
    "        self.encodings = []\n",
    "        self.frames = []\n",
    "        self.frame_count = 0\n",
    "        self.labelSet = set()"
   ]
  },
  {
   "cell_type": "code",
   "execution_count": 58,
   "metadata": {},
   "outputs": [
    {
     "name": "stdout",
     "output_type": "stream",
     "text": [
      "[INFO] clustering agent...\n",
      "[INFO] starting video stream...\n"
     ]
    }
   ],
   "source": [
    "va = VideoAgent()"
   ]
  },
  {
   "cell_type": "markdown",
   "metadata": {},
   "source": [
    "## Main"
   ]
  },
  {
   "cell_type": "code",
   "execution_count": 55,
   "metadata": {},
   "outputs": [],
   "source": [
    "def main(va):\n",
    "    clt = va.clt\n",
    "    video_capture = va.video_capture\n",
    "    encodings = va.encodings\n",
    "    frames = va.frames\n",
    "    frame_count = va.frame_count\n",
    "    labelSet = va.labelSet\n",
    "    \n",
    "    while video_capture.isOpened():\n",
    "    # for asdfas in range(10): # JUST FOR TESTS\n",
    "\n",
    "        # Grab a single frame of video\n",
    "        ret, frame = video_capture.read()\n",
    "        # frame = imutils.resize(frame, width=600)\n",
    "\n",
    "        frame_count += 1\n",
    "        if(frame_count%24 == 0):\n",
    "            frame_count = 0\n",
    "\n",
    "        else:\n",
    "            # frame = imutils.resize(frame, width=600)  \n",
    "            rgb = cv2.cvtColor(frame, cv2.COLOR_BGR2RGB)\n",
    "\n",
    "            boxes = face_recognition.face_locations(rgb,model=\"cnn\")\n",
    "\n",
    "            encodingsSize = len(encodings)\n",
    "\n",
    "            # compute the facial embedding for the face\n",
    "            encoding = face_recognition.face_encodings(rgb, boxes)\n",
    "            if encoding:\n",
    "                encodings += encoding\n",
    "                clt.fit(encodings)\n",
    "                for i in clt.fit_predict(encodings):\n",
    "                    if i!=-1 :\n",
    "                        labelSet.add(i)\n",
    "\n",
    "\n",
    "            for i, box in enumerate(boxes):\n",
    "                # coordinates\n",
    "                (top, right, bottom, left) = box\n",
    "                y = top - 10 if top - 10 > 10 else top + 10\n",
    "\n",
    "                # perform classification to recognize the face\n",
    "                name = \"ID\"\n",
    "                text = \"{}: {}\".format(name, clt.labels_[encodingsSize+i])\n",
    "\n",
    "                # plot at image\n",
    "                cv2.rectangle(frame, (right,top), (left, bottom), (0, 0, 255), 2)\n",
    "                cv2.putText(frame, text, (left, y), cv2.FONT_HERSHEY_SIMPLEX, 0.45, (0, 0, 255), 2)\n",
    "\n",
    "            cv2.putText(frame, 'Counting: {}'.format(len(labelSet)), (10, 20), cv2.FONT_HERSHEY_SIMPLEX, 0.45, (0, 200, 200), 2)\n",
    "\n",
    "            # show the output frame\n",
    "            cv2.imshow(\"Frame\", frame)\n",
    "            key = cv2.waitKey(1) & 0xFF\n",
    "\n",
    "            # if the `q` key was pressed, break from the loop\n",
    "            if key == ord(\"q\"):\n",
    "                break\n",
    "\n",
    "    # do a bit of cleanup\n",
    "    cv2.destroyAllWindows()"
   ]
  },
  {
   "cell_type": "code",
   "execution_count": 62,
   "metadata": {},
   "outputs": [],
   "source": [
    "main(va)"
   ]
  },
  {
   "cell_type": "code",
   "execution_count": null,
   "metadata": {},
   "outputs": [],
   "source": []
  }
 ],
 "metadata": {
  "kernelspec": {
   "display_name": "Python 3",
   "language": "python",
   "name": "python3"
  },
  "language_info": {
   "codemirror_mode": {
    "name": "ipython",
    "version": 3
   },
   "file_extension": ".py",
   "mimetype": "text/x-python",
   "name": "python",
   "nbconvert_exporter": "python",
   "pygments_lexer": "ipython3",
   "version": "3.6.5"
  }
 },
 "nbformat": 4,
 "nbformat_minor": 2
}
