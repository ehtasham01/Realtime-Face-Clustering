{
 "cells": [
  {
   "cell_type": "code",
   "execution_count": 1,
   "metadata": {},
   "outputs": [],
   "source": [
    "from imutils.video import FileVideoStream\n",
    "from imutils.video import VideoStream\n",
    "from sklearn.cluster import DBSCAN\n",
    "from imutils.video import FPS\n",
    "from imutils import paths\n",
    "import dlib.cuda as cuda\n",
    "import face_recognition\n",
    "import numpy as np\n",
    "import argparse\n",
    "import imutils\n",
    "import pickle\n",
    "import time\n",
    "import cv2\n",
    "import os"
   ]
  },
  {
   "cell_type": "markdown",
   "metadata": {},
   "source": [
    "## Main() Streaming "
   ]
  },
  {
   "cell_type": "code",
   "execution_count": 36,
   "metadata": {},
   "outputs": [],
   "source": [
    "def main():\n",
    "\n",
    "    print(\"[INFO] starting video stream...\")\n",
    "    vs = VideoStream(src=0).start()\n",
    "    time.sleep(2.0)\n",
    "\n",
    "    print(\"[INFO] clustering...\")\n",
    "    clt = DBSCAN(min_samples=8, metric='euclidean', eps= 0.4435, n_jobs=-1)\n",
    "\n",
    "    # start the FPS throughput estimator\n",
    "    fps = FPS().start()\n",
    "    encodings = []\n",
    "    labelSet = set()\n",
    "\n",
    "    # loop over frames from the video file stream\n",
    "    while True:\n",
    "        # grab the frame from the threaded video stream\n",
    "        frame = vs.read()\n",
    "        frame = imutils.resize(frame, width=500)\n",
    "        rgb = cv2.cvtColor(frame, cv2.COLOR_BGR2RGB)\n",
    "\n",
    "        boxes = face_recognition.face_locations(rgb,model=\"cnn\")\n",
    "\n",
    "        encodingsSize = len(encodings)\n",
    "\n",
    "        # compute the facial embedding for the face\n",
    "        encoding = face_recognition.face_encodings(rgb, boxes)\n",
    "        if encoding:\n",
    "            encodings += encoding\n",
    "            for i in clt.fit_predict(encodings):\n",
    "                if i!=-1 :\n",
    "                    labelSet.add(i)\n",
    "\n",
    "        for i, box in enumerate(boxes):\n",
    "                # coordinates\n",
    "                (top, right, bottom, left) = box\n",
    "                y = top - 10 if top - 10 > 10 else top + 10\n",
    "\n",
    "                # perform classification to recognize the face\n",
    "                name = \"ID\"\n",
    "                text = \"{}: {}\".format(name, clt.labels_[encodingsSize+i])\n",
    "\n",
    "                # plot at image\n",
    "                cv2.rectangle(frame, (right,top), (left, bottom), (0, 0, 255), 2)\n",
    "                cv2.putText(frame, text, (left, y), cv2.FONT_HERSHEY_SIMPLEX, 0.45, (0, 0, 200), 2)\n",
    "\n",
    "        cv2.putText(frame, 'Counting: {}'.format(len(labelSet)), (10, 20), cv2.FONT_HERSHEY_SIMPLEX, 0.45, (0, 100, 200), 2)\n",
    "\n",
    "        \n",
    "        # update the FPS counter\n",
    "        fps.update()\n",
    "\n",
    "        # show the output frame\n",
    "        cv2.imshow(\"Frame\", frame)\n",
    "        key = cv2.waitKey(1) & 0xFF\n",
    "\n",
    "        # if the `q` key was pressed, break from the loop\n",
    "        if key == ord(\"q\"):\n",
    "            break\n",
    "\n",
    "    # stop the timer and display FPS information\n",
    "    fps.stop()\n",
    "    print(\"[INFO] elasped time: {:.2f}\".format(fps.elapsed()))\n",
    "    print(\"[INFO] approx. FPS: {:.2f}\".format(fps.fps()))\n",
    "\n",
    "    # do a bit of cleanup\n",
    "    cv2.destroyAllWindows()\n",
    "    vs.stop()"
   ]
  },
  {
   "cell_type": "code",
   "execution_count": 35,
   "metadata": {},
   "outputs": [
    {
     "name": "stdout",
     "output_type": "stream",
     "text": [
      "[INFO] starting video stream...\n",
      "[INFO] clustering...\n",
      "[INFO] elasped time: 21.31\n",
      "[INFO] approx. FPS: 10.80\n"
     ]
    }
   ],
   "source": [
    "main()"
   ]
  },
  {
   "cell_type": "code",
   "execution_count": null,
   "metadata": {},
   "outputs": [],
   "source": []
  }
 ],
 "metadata": {
  "kernelspec": {
   "display_name": "Python 3",
   "language": "python",
   "name": "python3"
  },
  "language_info": {
   "codemirror_mode": {
    "name": "ipython",
    "version": 3
   },
   "file_extension": ".py",
   "mimetype": "text/x-python",
   "name": "python",
   "nbconvert_exporter": "python",
   "pygments_lexer": "ipython3",
   "version": "3.6.5"
  }
 },
 "nbformat": 4,
 "nbformat_minor": 2
}
